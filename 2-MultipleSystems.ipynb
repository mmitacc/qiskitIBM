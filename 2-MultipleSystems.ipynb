{
 "cells": [
  {
   "cell_type": "markdown",
   "metadata": {},
   "source": [
    "Verificar version de Python"
   ]
  },
  {
   "cell_type": "code",
   "execution_count": 1,
   "metadata": {},
   "outputs": [
    {
     "name": "stdout",
     "output_type": "stream",
     "text": [
      "1.3.2\n"
     ]
    }
   ],
   "source": [
    "from qiskit import __version__\n",
    "print(__version__)"
   ]
  },
  {
   "cell_type": "markdown",
   "metadata": {},
   "source": [
    "Importando todas las clases necesarias para esta practica: Statevector, Operator de qiskt & sqrt de numpy"
   ]
  },
  {
   "cell_type": "code",
   "execution_count": 2,
   "metadata": {},
   "outputs": [],
   "source": [
    "from qiskit.quantum_info import Statevector, Operator\n",
    "from numpy import sqrt"
   ]
  },
  {
   "cell_type": "markdown",
   "metadata": {},
   "source": [
    "Un ejemplo para un \"Producto Tensorial\" PSI con el metodo: tensor, de la clase Statevector. Se aplicara de un vector \"zero\" con el vector \"one\", definidos para un qubit de estado inicial 0 y 1 respectivamente, con la ayuda del metodo \"from_label\""
   ]
  },
  {
   "cell_type": "code",
   "execution_count": 14,
   "metadata": {},
   "outputs": [
    {
     "name": "stdout",
     "output_type": "stream",
     "text": [
      "Vector: \"zero\"\n"
     ]
    },
    {
     "data": {
      "text/latex": [
       "$$ |0\\rangle$$"
      ],
      "text/plain": [
       "<IPython.core.display.Latex object>"
      ]
     },
     "metadata": {},
     "output_type": "display_data"
    },
    {
     "name": "stdout",
     "output_type": "stream",
     "text": [
      "Vector: \"one\"\n"
     ]
    },
    {
     "data": {
      "text/latex": [
       "$$ |1\\rangle$$"
      ],
      "text/plain": [
       "<IPython.core.display.Latex object>"
      ]
     },
     "metadata": {},
     "output_type": "display_data"
    },
    {
     "name": "stdout",
     "output_type": "stream",
     "text": [
      "Producto Tensoarial: \"PSI\"\n"
     ]
    },
    {
     "data": {
      "text/latex": [
       "$$ |01\\rangle$$"
      ],
      "text/plain": [
       "<IPython.core.display.Latex object>"
      ]
     },
     "metadata": {},
     "output_type": "display_data"
    }
   ],
   "source": [
    "zero = Statevector.from_label(\"0\")\n",
    "one = Statevector.from_label(\"1\")\n",
    "PSI = zero.tensor(one)\n",
    "print('Vector: \"zero\"'); display(zero.draw(\"latex\"))\n",
    "print('Vector: \"one\"'); display(one.draw(\"latex\"))\n",
    "print('Producto Tensoarial: \"PSI\"'); display(PSI.draw(\"latex\"))"
   ]
  },
  {
   "cell_type": "markdown",
   "metadata": {},
   "source": [
    "Otro ejemplo para un Producto Tensorial PHI, con estados de Bell y numeros complejos (l = -i)"
   ]
  },
  {
   "cell_type": "code",
   "execution_count": 23,
   "metadata": {},
   "outputs": [
    {
     "name": "stdout",
     "output_type": "stream",
     "text": [
      "Vector: \"plus\"\n"
     ]
    },
    {
     "data": {
      "text/latex": [
       "$$\\frac{\\sqrt{2}}{2} |0\\rangle+\\frac{\\sqrt{2}}{2} |1\\rangle$$"
      ],
      "text/plain": [
       "<IPython.core.display.Latex object>"
      ]
     },
     "metadata": {},
     "output_type": "display_data"
    },
    {
     "name": "stdout",
     "output_type": "stream",
     "text": [
      "Vector: \"minus_i\"\n"
     ]
    },
    {
     "data": {
      "text/latex": [
       "$$\\frac{\\sqrt{2}}{2} |0\\rangle- \\frac{\\sqrt{2} i}{2} |1\\rangle$$"
      ],
      "text/plain": [
       "<IPython.core.display.Latex object>"
      ]
     },
     "metadata": {},
     "output_type": "display_data"
    },
    {
     "name": "stdout",
     "output_type": "stream",
     "text": [
      "Producto Tensorial: \"PHI\"\n"
     ]
    },
    {
     "data": {
      "text/latex": [
       "$$\\frac{1}{2} |00\\rangle- \\frac{i}{2} |01\\rangle+\\frac{1}{2} |10\\rangle- \\frac{i}{2} |11\\rangle$$"
      ],
      "text/plain": [
       "<IPython.core.display.Latex object>"
      ]
     },
     "metadata": {},
     "output_type": "display_data"
    }
   ],
   "source": [
    "plus = Statevector.from_label(\"+\")\n",
    "minus_i = Statevector.from_label(\"l\")\n",
    "PHI = plus.tensor(minus_i)\n",
    "print('Vector: \"plus\"'); display(plus.draw(\"latex\"))\n",
    "print('Vector: \"minus_i\"'); display(minus_i.draw(\"latex\"))\n",
    "print('Producto Tensorial: \"PHI\"'); display(PHI.draw(\"latex\"))\n"
   ]
  },
  {
   "cell_type": "markdown",
   "metadata": {},
   "source": [
    "Otra forma de denotar un \"Producto Tensorial\" con esta libreria, es usar el operador: ^"
   ]
  },
  {
   "cell_type": "code",
   "execution_count": 24,
   "metadata": {},
   "outputs": [
    {
     "data": {
      "text/latex": [
       "$$\\frac{1}{2} |00\\rangle- \\frac{i}{2} |01\\rangle+\\frac{1}{2} |10\\rangle- \\frac{i}{2} |11\\rangle$$"
      ],
      "text/plain": [
       "<IPython.core.display.Latex object>"
      ]
     },
     "metadata": {},
     "output_type": "display_data"
    }
   ],
   "source": [
    "display((plus^minus_i).draw(\"latex\"))"
   ]
  },
  {
   "cell_type": "markdown",
   "metadata": {},
   "source": [
    "Por otro lado la clase \"Operator\" de Qiskit, tambien tiene un metodo para un Producto Tensorial, denominado tambien \"tensor\""
   ]
  },
  {
   "cell_type": "code",
   "execution_count": 25,
   "metadata": {},
   "outputs": [
    {
     "name": "stdout",
     "output_type": "stream",
     "text": [
      "Vector: \"H\"\n"
     ]
    },
    {
     "data": {
      "text/latex": [
       "$$\n",
       "\n",
       "\\begin{bmatrix}\n",
       "\\frac{\\sqrt{2}}{2} & \\frac{\\sqrt{2}}{2}  \\\\\n",
       " \\frac{\\sqrt{2}}{2} & - \\frac{\\sqrt{2}}{2}  \\\\\n",
       " \\end{bmatrix}\n",
       "$$"
      ],
      "text/plain": [
       "<IPython.core.display.Latex object>"
      ]
     },
     "metadata": {},
     "output_type": "display_data"
    },
    {
     "name": "stdout",
     "output_type": "stream",
     "text": [
      "Vector: \"I\"\n"
     ]
    },
    {
     "data": {
      "text/latex": [
       "$$\n",
       "\n",
       "\\begin{bmatrix}\n",
       "1 & 0  \\\\\n",
       " 0 & 1  \\\\\n",
       " \\end{bmatrix}\n",
       "$$"
      ],
      "text/plain": [
       "<IPython.core.display.Latex object>"
      ]
     },
     "metadata": {},
     "output_type": "display_data"
    },
    {
     "name": "stdout",
     "output_type": "stream",
     "text": [
      "Vector: \"X\"\n"
     ]
    },
    {
     "data": {
      "text/latex": [
       "$$\n",
       "\n",
       "\\begin{bmatrix}\n",
       "0 & 1  \\\\\n",
       " 1 & 0  \\\\\n",
       " \\end{bmatrix}\n",
       "$$"
      ],
      "text/plain": [
       "<IPython.core.display.Latex object>"
      ]
     },
     "metadata": {},
     "output_type": "display_data"
    },
    {
     "name": "stdout",
     "output_type": "stream",
     "text": [
      "Producto Tensorial: \"H^I\"\n"
     ]
    },
    {
     "data": {
      "text/latex": [
       "$$\n",
       "\n",
       "\\begin{bmatrix}\n",
       "\\frac{\\sqrt{2}}{2} & 0 & \\frac{\\sqrt{2}}{2} & 0  \\\\\n",
       " 0 & \\frac{\\sqrt{2}}{2} & 0 & \\frac{\\sqrt{2}}{2}  \\\\\n",
       " \\frac{\\sqrt{2}}{2} & 0 & - \\frac{\\sqrt{2}}{2} & 0  \\\\\n",
       " 0 & \\frac{\\sqrt{2}}{2} & 0 & - \\frac{\\sqrt{2}}{2}  \\\\\n",
       " \\end{bmatrix}\n",
       "$$"
      ],
      "text/plain": [
       "<IPython.core.display.Latex object>"
      ]
     },
     "metadata": {},
     "output_type": "display_data"
    },
    {
     "name": "stdout",
     "output_type": "stream",
     "text": [
      "Producto Tensorial: \"H^I^X\"\n"
     ]
    },
    {
     "data": {
      "text/latex": [
       "$$\n",
       "\n",
       "\\begin{bmatrix}\n",
       "0 & \\frac{\\sqrt{2}}{2} & 0 & 0 & 0 & \\frac{\\sqrt{2}}{2} & 0 & 0  \\\\\n",
       " \\frac{\\sqrt{2}}{2} & 0 & 0 & 0 & \\frac{\\sqrt{2}}{2} & 0 & 0 & 0  \\\\\n",
       " 0 & 0 & 0 & \\frac{\\sqrt{2}}{2} & 0 & 0 & 0 & \\frac{\\sqrt{2}}{2}  \\\\\n",
       " 0 & 0 & \\frac{\\sqrt{2}}{2} & 0 & 0 & 0 & \\frac{\\sqrt{2}}{2} & 0  \\\\\n",
       " 0 & \\frac{\\sqrt{2}}{2} & 0 & 0 & 0 & - \\frac{\\sqrt{2}}{2} & 0 & 0  \\\\\n",
       " \\frac{\\sqrt{2}}{2} & 0 & 0 & 0 & - \\frac{\\sqrt{2}}{2} & 0 & 0 & 0  \\\\\n",
       " 0 & 0 & 0 & \\frac{\\sqrt{2}}{2} & 0 & 0 & 0 & - \\frac{\\sqrt{2}}{2}  \\\\\n",
       " 0 & 0 & \\frac{\\sqrt{2}}{2} & 0 & 0 & 0 & - \\frac{\\sqrt{2}}{2} & 0  \\\\\n",
       " \\end{bmatrix}\n",
       "$$"
      ],
      "text/plain": [
       "<IPython.core.display.Latex object>"
      ]
     },
     "metadata": {},
     "output_type": "display_data"
    }
   ],
   "source": [
    "H = Operator.from_label(\"H\")\n",
    "I = Operator.from_label(\"I\")\n",
    "X = Operator.from_label(\"X\")\n",
    "print('Vector: \"H\"'); display(H.draw(\"latex\"))\n",
    "print('Vector: \"I\"'); display(I.draw(\"latex\"))\n",
    "print('Vector: \"X\"'); display(X.draw(\"latex\"))\n",
    "print('Producto Tensorial: \"H^I\"'); display(H.tensor(I).draw(\"latex\"))\n",
    "print('Producto Tensorial: \"H^I^X\"'); display(H.tensor(I).tensor(X).draw(\"latex\"))"
   ]
  },
  {
   "cell_type": "markdown",
   "metadata": {},
   "source": [
    "Y de la misma forma que con la clase Statevector, con la clase \"Operator\" se puede usa el operador ^ para generar un Producto Tensorial, semejante al último generado: H^I^X"
   ]
  },
  {
   "cell_type": "code",
   "execution_count": 27,
   "metadata": {},
   "outputs": [
    {
     "name": "stdout",
     "output_type": "stream",
     "text": [
      "Producto Tensorial: \"H^I^X\"\n"
     ]
    },
    {
     "data": {
      "text/latex": [
       "$$\n",
       "\n",
       "\\begin{bmatrix}\n",
       "0 & \\frac{\\sqrt{2}}{2} & 0 & 0 & 0 & \\frac{\\sqrt{2}}{2} & 0 & 0  \\\\\n",
       " \\frac{\\sqrt{2}}{2} & 0 & 0 & 0 & \\frac{\\sqrt{2}}{2} & 0 & 0 & 0  \\\\\n",
       " 0 & 0 & 0 & \\frac{\\sqrt{2}}{2} & 0 & 0 & 0 & \\frac{\\sqrt{2}}{2}  \\\\\n",
       " 0 & 0 & \\frac{\\sqrt{2}}{2} & 0 & 0 & 0 & \\frac{\\sqrt{2}}{2} & 0  \\\\\n",
       " 0 & \\frac{\\sqrt{2}}{2} & 0 & 0 & 0 & - \\frac{\\sqrt{2}}{2} & 0 & 0  \\\\\n",
       " \\frac{\\sqrt{2}}{2} & 0 & 0 & 0 & - \\frac{\\sqrt{2}}{2} & 0 & 0 & 0  \\\\\n",
       " 0 & 0 & 0 & \\frac{\\sqrt{2}}{2} & 0 & 0 & 0 & - \\frac{\\sqrt{2}}{2}  \\\\\n",
       " 0 & 0 & \\frac{\\sqrt{2}}{2} & 0 & 0 & 0 & - \\frac{\\sqrt{2}}{2} & 0  \\\\\n",
       " \\end{bmatrix}\n",
       "$$"
      ],
      "text/plain": [
       "<IPython.core.display.Latex object>"
      ]
     },
     "metadata": {},
     "output_type": "display_data"
    }
   ],
   "source": [
    "print('Producto Tensorial: \"H^I^X\"'); display((H^I^X).draw(\"latex\"))"
   ]
  },
  {
   "cell_type": "markdown",
   "metadata": {},
   "source": [
    "Para una operación compuesta, usamos el metodo \"evolve\", para ejemplo reutilizaremos PHI, H & I"
   ]
  },
  {
   "cell_type": "code",
   "execution_count": 29,
   "metadata": {},
   "outputs": [
    {
     "name": "stdout",
     "output_type": "stream",
     "text": [
      "Vector: \"H\"\n"
     ]
    },
    {
     "data": {
      "text/latex": [
       "$$\n",
       "\n",
       "\\begin{bmatrix}\n",
       "\\frac{\\sqrt{2}}{2} & \\frac{\\sqrt{2}}{2}  \\\\\n",
       " \\frac{\\sqrt{2}}{2} & - \\frac{\\sqrt{2}}{2}  \\\\\n",
       " \\end{bmatrix}\n",
       "$$"
      ],
      "text/plain": [
       "<IPython.core.display.Latex object>"
      ]
     },
     "metadata": {},
     "output_type": "display_data"
    },
    {
     "name": "stdout",
     "output_type": "stream",
     "text": [
      "Vector: \"I\"\n"
     ]
    },
    {
     "data": {
      "text/latex": [
       "$$\n",
       "\n",
       "\\begin{bmatrix}\n",
       "1 & 0  \\\\\n",
       " 0 & 1  \\\\\n",
       " \\end{bmatrix}\n",
       "$$"
      ],
      "text/plain": [
       "<IPython.core.display.Latex object>"
      ]
     },
     "metadata": {},
     "output_type": "display_data"
    },
    {
     "name": "stdout",
     "output_type": "stream",
     "text": [
      "Producto Tensorial: \"PHI\"\n"
     ]
    },
    {
     "data": {
      "text/latex": [
       "$$\\frac{1}{2} |00\\rangle- \\frac{i}{2} |01\\rangle+\\frac{1}{2} |10\\rangle- \\frac{i}{2} |11\\rangle$$"
      ],
      "text/plain": [
       "<IPython.core.display.Latex object>"
      ]
     },
     "metadata": {},
     "output_type": "display_data"
    },
    {
     "name": "stdout",
     "output_type": "stream",
     "text": [
      "Producto Tensorial: \"H^I\"\n"
     ]
    },
    {
     "data": {
      "text/latex": [
       "$$\n",
       "\n",
       "\\begin{bmatrix}\n",
       "\\frac{\\sqrt{2}}{2} & 0 & \\frac{\\sqrt{2}}{2} & 0  \\\\\n",
       " 0 & \\frac{\\sqrt{2}}{2} & 0 & \\frac{\\sqrt{2}}{2}  \\\\\n",
       " \\frac{\\sqrt{2}}{2} & 0 & - \\frac{\\sqrt{2}}{2} & 0  \\\\\n",
       " 0 & \\frac{\\sqrt{2}}{2} & 0 & - \\frac{\\sqrt{2}}{2}  \\\\\n",
       " \\end{bmatrix}\n",
       "$$"
      ],
      "text/plain": [
       "<IPython.core.display.Latex object>"
      ]
     },
     "metadata": {},
     "output_type": "display_data"
    },
    {
     "name": "stdout",
     "output_type": "stream",
     "text": [
      "Operación Compuesta: \"PHI.evolve(H ^ I)\"\n"
     ]
    },
    {
     "data": {
      "text/latex": [
       "$$\\frac{\\sqrt{2}}{2} |00\\rangle- \\frac{\\sqrt{2} i}{2} |01\\rangle$$"
      ],
      "text/plain": [
       "<IPython.core.display.Latex object>"
      ]
     },
     "metadata": {},
     "output_type": "display_data"
    }
   ],
   "source": [
    "print('Vector: \"H\"'); display(H.draw(\"latex\"))\n",
    "print('Vector: \"I\"'); display(I.draw(\"latex\"))\n",
    "print('Producto Tensorial: \"PHI\"'); display(PHI.draw(\"latex\"))\n",
    "print('Producto Tensorial: \"H^I\"'); display((H^I).draw(\"latex\"))\n",
    "print('Operación Compuesta: \"PHI.evolve(H ^ I)\"'); display(PHI.evolve(H ^ I).draw(\"latex\"))"
   ]
  },
  {
   "cell_type": "markdown",
   "metadata": {},
   "source": [
    "Operación CX en donde el qubit de la izquierda es de control y el qubit de la derecha es objetivo"
   ]
  },
  {
   "cell_type": "code",
   "execution_count": 30,
   "metadata": {},
   "outputs": [
    {
     "name": "stdout",
     "output_type": "stream",
     "text": [
      "Matriz: \"CX\"\n"
     ]
    },
    {
     "data": {
      "text/latex": [
       "$$\n",
       "\n",
       "\\begin{bmatrix}\n",
       "1 & 0 & 0 & 0  \\\\\n",
       " 0 & 1 & 0 & 0  \\\\\n",
       " 0 & 0 & 0 & 1  \\\\\n",
       " 0 & 0 & 1 & 0  \\\\\n",
       " \\end{bmatrix}\n",
       "$$"
      ],
      "text/plain": [
       "<IPython.core.display.Latex object>"
      ]
     },
     "metadata": {},
     "output_type": "display_data"
    },
    {
     "name": "stdout",
     "output_type": "stream",
     "text": [
      "Producto Tensorial: \"PSI_cx\"\n"
     ]
    },
    {
     "data": {
      "text/latex": [
       "$$\\frac{\\sqrt{2}}{2} |00\\rangle+\\frac{\\sqrt{2}}{2} |10\\rangle$$"
      ],
      "text/plain": [
       "<IPython.core.display.Latex object>"
      ]
     },
     "metadata": {},
     "output_type": "display_data"
    },
    {
     "name": "stdout",
     "output_type": "stream",
     "text": [
      "Operación de Control: \"PSI_cx.evolve(CX)\"\n"
     ]
    },
    {
     "data": {
      "text/latex": [
       "$$\\frac{\\sqrt{2}}{2} |00\\rangle+\\frac{\\sqrt{2}}{2} |11\\rangle$$"
      ],
      "text/plain": [
       "<IPython.core.display.Latex object>"
      ]
     },
     "metadata": {},
     "output_type": "display_data"
    }
   ],
   "source": [
    "CX = Operator([[1, 0, 0, 0],\n",
    "               [0, 1, 0, 0],\n",
    "               [0, 0, 0, 1],\n",
    "               [0, 0, 1, 0]])\n",
    "PSI_cx = plus.tensor(zero)\n",
    "print('Matriz: \"CX\"'); display(CX.draw(\"latex\"))\n",
    "print('Producto Tensorial: \"PSI_cx\"'); display(PSI_cx.draw(\"latex\"))\n",
    "print('Operación de Control: \"PSI_cx.evolve(CX)\"'); display(PSI_cx.evolve(CX).draw(\"latex\"))"
   ]
  },
  {
   "cell_type": "markdown",
   "metadata": {},
   "source": [
    "Mediciones Parciales, con el metodo \"measure\" de la clase Statevector. Cada medida nos devuelve 02 elementos como resultado: primero la medición simulada del qubit y el segundo es el \"nuevo vector de estado\" en base a los demás qubit no simulados."
   ]
  },
  {
   "cell_type": "code",
   "execution_count": 44,
   "metadata": {},
   "outputs": [
    {
     "name": "stdout",
     "output_type": "stream",
     "text": [
      "Vector de Estado: \"w\"\n"
     ]
    },
    {
     "data": {
      "text/latex": [
       "$$\\frac{\\sqrt{3}}{3} |001\\rangle+\\frac{\\sqrt{3}}{3} |010\\rangle+\\frac{\\sqrt{3}}{3} |100\\rangle$$"
      ],
      "text/plain": [
       "<IPython.core.display.Latex object>"
      ]
     },
     "metadata": {},
     "output_type": "display_data"
    },
    {
     "name": "stdout",
     "output_type": "stream",
     "text": [
      "Medida simulada el primer Qubit: 0; Estado después de la medición\n"
     ]
    },
    {
     "data": {
      "text/latex": [
       "$$\\frac{\\sqrt{2}}{2} |010\\rangle+\\frac{\\sqrt{2}}{2} |100\\rangle$$"
      ],
      "text/plain": [
       "<IPython.core.display.Latex object>"
      ]
     },
     "metadata": {},
     "output_type": "display_data"
    },
    {
     "name": "stdout",
     "output_type": "stream",
     "text": [
      "Medida simulada de los 2 primeros Qubits: 01; Estado después de la medición\n"
     ]
    },
    {
     "data": {
      "text/latex": [
       "$$ |001\\rangle$$"
      ],
      "text/plain": [
       "<IPython.core.display.Latex object>"
      ]
     },
     "metadata": {},
     "output_type": "display_data"
    }
   ],
   "source": [
    "w = Statevector([0, 1, 1, 0, 1, 0, 0, 0]/sqrt(3))\n",
    "print('Vector de Estado: \"w\"'); display(w.draw(\"latex\"))\n",
    "\n",
    "result, state = w.measure([0])\n",
    "print(f\"Medida simulada el primer Qubit: {result}; Estado después de la medición\"); display(state.draw(\"latex\"))\n",
    "\n",
    "result, state = w.measure([0, 1])\n",
    "print(f\"Medida simulada de los 2 primeros Qubits: {result}; Estado después de la medición\"); display(state.draw(\"latex\"))\n",
    "\n"
   ]
  }
 ],
 "metadata": {
  "kernelspec": {
   "display_name": "quantum",
   "language": "python",
   "name": "python3"
  },
  "language_info": {
   "codemirror_mode": {
    "name": "ipython",
    "version": 3
   },
   "file_extension": ".py",
   "mimetype": "text/x-python",
   "name": "python",
   "nbconvert_exporter": "python",
   "pygments_lexer": "ipython3",
   "version": "3.13.1"
  }
 },
 "nbformat": 4,
 "nbformat_minor": 2
}
