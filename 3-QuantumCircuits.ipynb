{
 "cells": [
  {
   "cell_type": "markdown",
   "metadata": {},
   "source": [
    "Importando clases de Qiskit: Operator, Statevector; para usar los metodos \"tensor\" y \"evolve\""
   ]
  },
  {
   "cell_type": "code",
   "execution_count": 7,
   "metadata": {},
   "outputs": [],
   "source": [
    "from qiskit.quantum_info import Operator\n",
    "from numpy import matmul, dot"
   ]
  },
  {
   "cell_type": "markdown",
   "metadata": {},
   "source": [
    "Probando con vectores de estado pre-definidos"
   ]
  },
  {
   "cell_type": "code",
   "execution_count": 8,
   "metadata": {},
   "outputs": [
    {
     "name": "stdout",
     "output_type": "stream",
     "text": [
      "Operador Hadamard (H)\n"
     ]
    },
    {
     "data": {
      "text/latex": [
       "$$\n",
       "\n",
       "\\begin{bmatrix}\n",
       "\\frac{\\sqrt{2}}{2} & \\frac{\\sqrt{2}}{2}  \\\\\n",
       " \\frac{\\sqrt{2}}{2} & - \\frac{\\sqrt{2}}{2}  \\\\\n",
       " \\end{bmatrix}\n",
       "$$"
      ],
      "text/plain": [
       "<IPython.core.display.Latex object>"
      ]
     },
     "metadata": {},
     "output_type": "display_data"
    },
    {
     "name": "stdout",
     "output_type": "stream",
     "text": [
      "Operador Phase (S)\n"
     ]
    },
    {
     "data": {
      "text/latex": [
       "$$\n",
       "\n",
       "\\begin{bmatrix}\n",
       "1 & 0  \\\\\n",
       " 0 & i  \\\\\n",
       " \\end{bmatrix}\n",
       "$$"
      ],
      "text/plain": [
       "<IPython.core.display.Latex object>"
      ]
     },
     "metadata": {},
     "output_type": "display_data"
    },
    {
     "name": "stdout",
     "output_type": "stream",
     "text": [
      "Operador Pi/8 (T)\n"
     ]
    },
    {
     "data": {
      "text/latex": [
       "$$\n",
       "\n",
       "\\begin{bmatrix}\n",
       "1 & 0  \\\\\n",
       " 0 & \\frac{\\sqrt{2}}{2} + \\frac{\\sqrt{2} i}{2}  \\\\\n",
       " \\end{bmatrix}\n",
       "$$"
      ],
      "text/plain": [
       "<IPython.core.display.Latex object>"
      ]
     },
     "metadata": {},
     "output_type": "display_data"
    },
    {
     "name": "stdout",
     "output_type": "stream",
     "text": [
      "Producto Tensorial: 'H^S^H^T\n"
     ]
    },
    {
     "data": {
      "text/latex": [
       "$$\n",
       "\n",
       "\\begin{bmatrix}\n",
       "\\frac{1}{2} & 0 & \\frac{1}{2} & 0 & \\cdots & 0 & 0 & 0  \\\\\n",
       " 0 & \\frac{\\sqrt{2}}{4} + \\frac{\\sqrt{2} i}{4} & 0 & \\frac{\\sqrt{2}}{4} + \\frac{\\sqrt{2} i}{4} & \\cdots & 0 & 0 & 0  \\\\\n",
       " \\frac{1}{2} & 0 & - \\frac{1}{2} & 0 & \\cdots & 0 & 0 & 0  \\\\\n",
       " 0 & \\frac{\\sqrt{2}}{4} + \\frac{\\sqrt{2} i}{4} & 0 & - \\frac{\\sqrt{2}}{4} - \\frac{\\sqrt{2} i}{4} & \\cdots & 0 & 0 & 0  \\\\\n",
       " \\vdots & \\vdots & \\vdots & \\vdots & \\ddots & \\vdots & \\vdots & \\vdots \\\\\n",
       " 0 & 0 & 0 & 0 & \\cdots & \\frac{\\sqrt{2}}{4} - \\frac{\\sqrt{2} i}{4} & 0 & \\frac{\\sqrt{2}}{4} - \\frac{\\sqrt{2} i}{4}  \\\\\n",
       " 0 & 0 & 0 & 0 & \\cdots & 0 & \\frac{i}{2} & 0  \\\\\n",
       " 0 & 0 & 0 & 0 & \\cdots & \\frac{\\sqrt{2}}{4} - \\frac{\\sqrt{2} i}{4} & 0 & - \\frac{\\sqrt{2}}{4} + \\frac{\\sqrt{2} i}{4}  \\\\\n",
       " \\end{bmatrix}\n",
       "$$"
      ],
      "text/plain": [
       "<IPython.core.display.Latex object>"
      ]
     },
     "metadata": {},
     "output_type": "display_data"
    },
    {
     "name": "stdout",
     "output_type": "stream",
     "text": [
      "Producto Matricial: 'H^S^H^T\n"
     ]
    },
    {
     "data": {
      "text/latex": [
       "$$\n",
       "\n",
       "\\begin{bmatrix}\n",
       "\\frac{1}{2} + \\frac{i}{2} & \\frac{1}{2} - \\frac{i}{2}  \\\\\n",
       " \\frac{\\sqrt{2}}{2} & \\frac{\\sqrt{2} i}{2}  \\\\\n",
       " \\end{bmatrix}\n",
       "$$"
      ],
      "text/plain": [
       "<IPython.core.display.Latex object>"
      ]
     },
     "metadata": {},
     "output_type": "display_data"
    }
   ],
   "source": [
    "S = Operator.from_label(\"S\")\n",
    "T = Operator.from_label(\"T\")\n",
    "H = Operator.from_label(\"H\")\n",
    "\n",
    "print(\"Operador Hadamard (H)\"); display(H.draw(\"latex\"))\n",
    "print(\"Operador Phase (S)\"); display(S.draw(\"latex\"))\n",
    "print(\"Operador Pi/8 (T)\"); display(T.draw(\"latex\"))\n",
    "print(\"Producto Tensorial: 'H^S^H^T\"); display(H.tensor(S).tensor(H).tensor(T).draw(\"latex\"))\n",
    "print(\"Producto Matricial: 'H^S^H^T\"); display(T.dot(H).dot(S).dot(H).draw(\"latex\"))"
   ]
  },
  {
   "cell_type": "markdown",
   "metadata": {},
   "source": [
    "Importamos nuevas clases de Qiskit, asi como un simulador para circuitos que debera instalarse antes con la instrucción:\n",
    "\"pip install qiskit-aer\""
   ]
  },
  {
   "cell_type": "code",
   "execution_count": 9,
   "metadata": {},
   "outputs": [],
   "source": [
    "from qiskit import QuantumCircuit, QuantumRegister, ClassicalRegister\n",
    "from qiskit_aer import AerSimulator\n",
    "from qiskit.visualization import plot_histogram"
   ]
  },
  {
   "cell_type": "markdown",
   "metadata": {},
   "source": [
    "Ejemplo de un circuito cuantico con Operadores: Hadamard, Phase, Pi/4; con el simulador \"qiskit_aer\""
   ]
  },
  {
   "cell_type": "code",
   "execution_count": 10,
   "metadata": {},
   "outputs": [
    {
     "data": {
      "image/png": "[encoded data removed]",
      "text/plain": [
       "<Figure size 436.286x117.056 with 1 Axes>"
      ]
     },
     "metadata": {},
     "output_type": "display_data"
    }
   ],
   "source": [
    "circuit = QuantumCircuit(1)\n",
    "circuit.h(0)\n",
    "circuit.s(0)\n",
    "circuit.h(0)\n",
    "circuit.t(0)\n",
    "\n",
    "display(circuit.draw(output=\"mpl\"))"
   ]
  },
  {
   "cell_type": "markdown",
   "metadata": {},
   "source": [
    "De forma predeterminada en Qiskit los nombre de los qubits son \"q\" y si hubiera más de uno tendrian un subindice para diferenciarlos. Pero si se desea nombrarlos y/o agruparlos con un único nombre se utiliza la clase \"QuantumRegister\", aquí un ejemplo para un solo qubit"
   ]
  },
  {
   "cell_type": "code",
   "execution_count": 11,
   "metadata": {},
   "outputs": [
    {
     "data": {
      "image/png": "[encoded data removed]",
      "text/plain": [
       "<Figure size 437.882x117.056 with 1 Axes>"
      ]
     },
     "metadata": {},
     "output_type": "display_data"
    }
   ],
   "source": [
    "X = QuantumRegister(1, \"X\")\n",
    "circuitX = QuantumCircuit(X)\n",
    "circuitX.h(X)\n",
    "circuitX.s(X)\n",
    "circuitX.h(X)\n",
    "circuitX.t(X)\n",
    "\n",
    "display(circuitX.draw(output=\"mpl\"))"
   ]
  },
  {
   "cell_type": "markdown",
   "metadata": {},
   "source": [
    "Ejemplo de un circuito con 2 cubits"
   ]
  },
  {
   "cell_type": "code",
   "execution_count": 12,
   "metadata": {},
   "outputs": [
    {
     "name": "stdout",
     "output_type": "stream",
     "text": [
      "Circuito Quantum con 02 qubits\n"
     ]
    },
    {
     "data": {
      "image/png": "[encoded data removed]",
      "text/plain": [
       "<Figure size 270.66x200.667 with 1 Axes>"
      ]
     },
     "metadata": {},
     "output_type": "display_data"
    },
    {
     "name": "stdout",
     "output_type": "stream",
     "text": [
      "Salida despues del Operador\n"
     ]
    },
    {
     "data": {
      "text/latex": [
       "$$\n",
       "\n",
       "\\begin{bmatrix}\n",
       "\\frac{\\sqrt{2}}{2} & \\frac{\\sqrt{2}}{2} & 0 & 0  \\\\\n",
       " 0 & 0 & \\frac{\\sqrt{2}}{2} & - \\frac{\\sqrt{2}}{2}  \\\\\n",
       " 0 & 0 & \\frac{\\sqrt{2}}{2} & \\frac{\\sqrt{2}}{2}  \\\\\n",
       " \\frac{\\sqrt{2}}{2} & - \\frac{\\sqrt{2}}{2} & 0 & 0  \\\\\n",
       " \\end{bmatrix}\n",
       "$$"
      ],
      "text/plain": [
       "<IPython.core.display.Latex object>"
      ]
     },
     "metadata": {},
     "output_type": "display_data"
    }
   ],
   "source": [
    "Y = QuantumRegister(1, \"Y\")\n",
    "circuitXY = QuantumCircuit(Y, X)\n",
    "circuitXY.h(Y)\n",
    "circuitXY.cx(Y, X)\n",
    "\n",
    "print(\"Circuito Quantum con 02 qubits\"); display(circuitXY.draw(output=\"mpl\"))\n",
    "print(\"Salida despues del Operador\"); display(Operator.from_circuit(circuitXY).draw(\"latex\"))"
   ]
  },
  {
   "cell_type": "markdown",
   "metadata": {},
   "source": [
    "Circuito con 2 qubits y 2 bits clasicos, una puerta ó operador Hadamard, un Not Controlado y sus correspondientes medidores para los qubits"
   ]
  },
  {
   "cell_type": "code",
   "execution_count": 13,
   "metadata": {},
   "outputs": [
    {
     "name": "stdout",
     "output_type": "stream",
     "text": [
      "Circuito de 2 Qubits y 2 bits clasicos\n"
     ]
    },
    {
     "data": {
      "image/png": "[encoded data removed]",
      "text/plain": [
       "<Figure size 437.882x367.889 with 1 Axes>"
      ]
     },
     "metadata": {},
     "output_type": "display_data"
    }
   ],
   "source": [
    "A = ClassicalRegister(1, \"A\")\n",
    "B = ClassicalRegister(1, \"B\")\n",
    "\n",
    "circuitYXBA = QuantumCircuit(Y, X, B, A)\n",
    "circuitYXBA.h(Y)\n",
    "circuitYXBA.cx(Y, X)\n",
    "circuitYXBA.measure(Y, B)\n",
    "circuitYXBA.measure(X, A)\n",
    "\n",
    "print(\"Circuito de 2 Qubits y 2 bits clasicos\"); display(circuitYXBA.draw(output=\"mpl\"))"
   ]
  },
  {
   "cell_type": "markdown",
   "metadata": {},
   "source": [
    "Simulando este último circuito con la libreria \"Aer\" de Qiskit"
   ]
  },
  {
   "cell_type": "code",
   "execution_count": 51,
   "metadata": {},
   "outputs": [
    {
     "data": {
      "image/png": "[encoded data removed]",
      "text/plain": [
       "<Figure size 640x480 with 1 Axes>"
      ]
     },
     "metadata": {},
     "output_type": "display_data"
    }
   ],
   "source": [
    "result = AerSimulator().run(circuitYXBA).result()\n",
    "statistics = result.get_counts()\n",
    "display(plot_histogram(statistics))"
   ]
  }
 ],
 "metadata": {
  "kernelspec": {
   "display_name": "quantum",
   "language": "python",
   "name": "python3"
  },
  "language_info": {
   "codemirror_mode": {
    "name": "ipython",
    "version": 3
   },
   "file_extension": ".py",
   "mimetype": "text/x-python",
   "name": "python",
   "nbconvert_exporter": "python",
   "pygments_lexer": "ipython3",
   "version": "3.13.1"
  }
 },
 "nbformat": 4,
 "nbformat_minor": 2
}
